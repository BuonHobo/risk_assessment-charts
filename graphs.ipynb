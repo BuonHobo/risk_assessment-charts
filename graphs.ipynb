{
 "cells": [
  {
   "cell_type": "code",
   "execution_count": 10,
   "metadata": {
    "collapsed": true,
    "ExecuteTime": {
     "start_time": "2023-05-04T18:48:29.175451Z",
     "end_time": "2023-05-04T18:48:29.242668Z"
    }
   },
   "outputs": [
    {
     "data": {
      "text/plain": "     run id  shared expertise               strategy  time to plan   \n0         0       6     unexp  RiskAssessmentPlanner        176781  \\\n1         1       6     unexp  RiskAssessmentPlanner        149871   \n2         2       6     unexp  RiskAssessmentPlanner        123798   \n3         3       6     unexp  RiskAssessmentPlanner        142080   \n4         4       6     unexp  RiskAssessmentPlanner        136827   \n..      ...     ...       ...                    ...           ...   \n155     155       2     unexp                Planner         20069   \n156     156       2     unexp                Planner         20212   \n157     157       2     unexp                Planner         19613   \n158     158       2     unexp                Planner         19483   \n159     159       2     unexp                Planner         19807   \n\n     average risk  max risk  foam collisions  wood collisions   \n0        0.009412  0.031360                0                0  \\\n1        0.005308  0.125440                0                0   \n2        0.024028  0.107520                1                0   \n3        0.029821  0.107520                2                0   \n4        0.005308  0.125440                0                0   \n..            ...       ...              ...              ...   \n155      0.003106  0.037856                1                0   \n156      0.002598  0.019600                1                1   \n157      0.001648  0.029400                1                0   \n158      0.004758  0.071120                2                0   \n159      0.005508  0.078400                1                0   \n\n     metal collisions  ...  human makespan  best robot makespan   \n0                   1  ...            92.0            97.000000  \\\n1                   0  ...            42.0            86.285714   \n2                   1  ...            78.0            81.857143   \n3                   1  ...            78.0            77.571429   \n4                   0  ...            42.0            86.285714   \n..                ...  ...             ...                  ...   \n155                 1  ...            58.0           188.142857   \n156                 0  ...            65.0           197.619048   \n157                 1  ...            48.0           252.952381   \n158                 1  ...            48.0           189.142857   \n159                 1  ...            58.0           166.238095   \n\n     estimated robot makespan  robot foam  robot wood  robot metal   \n0                  112.000000           6           0            1  \\\n1                   86.285714           6           0            6   \n2                  104.000000           2           6            1   \n3                  102.571429           2           6            1   \n4                   86.285714           6           0            6   \n..                        ...         ...         ...          ...   \n155                201.476190           4           4            3   \n156                232.619048           3           4            3   \n157                276.285714           4           4            4   \n158                212.476190           4           4            4   \n159                196.238095           4           4            3   \n\n     human foam  human wood  human metal  collision score  \n0             0           6            5                8  \n1             0           6            0                0  \n2             4           0            5               10  \n3             4           0            5               12  \n4             0           6            0                0  \n..          ...         ...          ...              ...  \n155           2           2            3               10  \n156           3           2            3                7  \n157           2           2            2               10  \n158           2           2            2               12  \n159           2           2            3               10  \n\n[160 rows x 21 columns]",
      "text/html": "<div>\n<style scoped>\n    .dataframe tbody tr th:only-of-type {\n        vertical-align: middle;\n    }\n\n    .dataframe tbody tr th {\n        vertical-align: top;\n    }\n\n    .dataframe thead th {\n        text-align: right;\n    }\n</style>\n<table border=\"1\" class=\"dataframe\">\n  <thead>\n    <tr style=\"text-align: right;\">\n      <th></th>\n      <th>run id</th>\n      <th>shared</th>\n      <th>expertise</th>\n      <th>strategy</th>\n      <th>time to plan</th>\n      <th>average risk</th>\n      <th>max risk</th>\n      <th>foam collisions</th>\n      <th>wood collisions</th>\n      <th>metal collisions</th>\n      <th>...</th>\n      <th>human makespan</th>\n      <th>best robot makespan</th>\n      <th>estimated robot makespan</th>\n      <th>robot foam</th>\n      <th>robot wood</th>\n      <th>robot metal</th>\n      <th>human foam</th>\n      <th>human wood</th>\n      <th>human metal</th>\n      <th>collision score</th>\n    </tr>\n  </thead>\n  <tbody>\n    <tr>\n      <th>0</th>\n      <td>0</td>\n      <td>6</td>\n      <td>unexp</td>\n      <td>RiskAssessmentPlanner</td>\n      <td>176781</td>\n      <td>0.009412</td>\n      <td>0.031360</td>\n      <td>0</td>\n      <td>0</td>\n      <td>1</td>\n      <td>...</td>\n      <td>92.0</td>\n      <td>97.000000</td>\n      <td>112.000000</td>\n      <td>6</td>\n      <td>0</td>\n      <td>1</td>\n      <td>0</td>\n      <td>6</td>\n      <td>5</td>\n      <td>8</td>\n    </tr>\n    <tr>\n      <th>1</th>\n      <td>1</td>\n      <td>6</td>\n      <td>unexp</td>\n      <td>RiskAssessmentPlanner</td>\n      <td>149871</td>\n      <td>0.005308</td>\n      <td>0.125440</td>\n      <td>0</td>\n      <td>0</td>\n      <td>0</td>\n      <td>...</td>\n      <td>42.0</td>\n      <td>86.285714</td>\n      <td>86.285714</td>\n      <td>6</td>\n      <td>0</td>\n      <td>6</td>\n      <td>0</td>\n      <td>6</td>\n      <td>0</td>\n      <td>0</td>\n    </tr>\n    <tr>\n      <th>2</th>\n      <td>2</td>\n      <td>6</td>\n      <td>unexp</td>\n      <td>RiskAssessmentPlanner</td>\n      <td>123798</td>\n      <td>0.024028</td>\n      <td>0.107520</td>\n      <td>1</td>\n      <td>0</td>\n      <td>1</td>\n      <td>...</td>\n      <td>78.0</td>\n      <td>81.857143</td>\n      <td>104.000000</td>\n      <td>2</td>\n      <td>6</td>\n      <td>1</td>\n      <td>4</td>\n      <td>0</td>\n      <td>5</td>\n      <td>10</td>\n    </tr>\n    <tr>\n      <th>3</th>\n      <td>3</td>\n      <td>6</td>\n      <td>unexp</td>\n      <td>RiskAssessmentPlanner</td>\n      <td>142080</td>\n      <td>0.029821</td>\n      <td>0.107520</td>\n      <td>2</td>\n      <td>0</td>\n      <td>1</td>\n      <td>...</td>\n      <td>78.0</td>\n      <td>77.571429</td>\n      <td>102.571429</td>\n      <td>2</td>\n      <td>6</td>\n      <td>1</td>\n      <td>4</td>\n      <td>0</td>\n      <td>5</td>\n      <td>12</td>\n    </tr>\n    <tr>\n      <th>4</th>\n      <td>4</td>\n      <td>6</td>\n      <td>unexp</td>\n      <td>RiskAssessmentPlanner</td>\n      <td>136827</td>\n      <td>0.005308</td>\n      <td>0.125440</td>\n      <td>0</td>\n      <td>0</td>\n      <td>0</td>\n      <td>...</td>\n      <td>42.0</td>\n      <td>86.285714</td>\n      <td>86.285714</td>\n      <td>6</td>\n      <td>0</td>\n      <td>6</td>\n      <td>0</td>\n      <td>6</td>\n      <td>0</td>\n      <td>0</td>\n    </tr>\n    <tr>\n      <th>...</th>\n      <td>...</td>\n      <td>...</td>\n      <td>...</td>\n      <td>...</td>\n      <td>...</td>\n      <td>...</td>\n      <td>...</td>\n      <td>...</td>\n      <td>...</td>\n      <td>...</td>\n      <td>...</td>\n      <td>...</td>\n      <td>...</td>\n      <td>...</td>\n      <td>...</td>\n      <td>...</td>\n      <td>...</td>\n      <td>...</td>\n      <td>...</td>\n      <td>...</td>\n      <td>...</td>\n    </tr>\n    <tr>\n      <th>155</th>\n      <td>155</td>\n      <td>2</td>\n      <td>unexp</td>\n      <td>Planner</td>\n      <td>20069</td>\n      <td>0.003106</td>\n      <td>0.037856</td>\n      <td>1</td>\n      <td>0</td>\n      <td>1</td>\n      <td>...</td>\n      <td>58.0</td>\n      <td>188.142857</td>\n      <td>201.476190</td>\n      <td>4</td>\n      <td>4</td>\n      <td>3</td>\n      <td>2</td>\n      <td>2</td>\n      <td>3</td>\n      <td>10</td>\n    </tr>\n    <tr>\n      <th>156</th>\n      <td>156</td>\n      <td>2</td>\n      <td>unexp</td>\n      <td>Planner</td>\n      <td>20212</td>\n      <td>0.002598</td>\n      <td>0.019600</td>\n      <td>1</td>\n      <td>1</td>\n      <td>0</td>\n      <td>...</td>\n      <td>65.0</td>\n      <td>197.619048</td>\n      <td>232.619048</td>\n      <td>3</td>\n      <td>4</td>\n      <td>3</td>\n      <td>3</td>\n      <td>2</td>\n      <td>3</td>\n      <td>7</td>\n    </tr>\n    <tr>\n      <th>157</th>\n      <td>157</td>\n      <td>2</td>\n      <td>unexp</td>\n      <td>Planner</td>\n      <td>19613</td>\n      <td>0.001648</td>\n      <td>0.029400</td>\n      <td>1</td>\n      <td>0</td>\n      <td>1</td>\n      <td>...</td>\n      <td>48.0</td>\n      <td>252.952381</td>\n      <td>276.285714</td>\n      <td>4</td>\n      <td>4</td>\n      <td>4</td>\n      <td>2</td>\n      <td>2</td>\n      <td>2</td>\n      <td>10</td>\n    </tr>\n    <tr>\n      <th>158</th>\n      <td>158</td>\n      <td>2</td>\n      <td>unexp</td>\n      <td>Planner</td>\n      <td>19483</td>\n      <td>0.004758</td>\n      <td>0.071120</td>\n      <td>2</td>\n      <td>0</td>\n      <td>1</td>\n      <td>...</td>\n      <td>48.0</td>\n      <td>189.142857</td>\n      <td>212.476190</td>\n      <td>4</td>\n      <td>4</td>\n      <td>4</td>\n      <td>2</td>\n      <td>2</td>\n      <td>2</td>\n      <td>12</td>\n    </tr>\n    <tr>\n      <th>159</th>\n      <td>159</td>\n      <td>2</td>\n      <td>unexp</td>\n      <td>Planner</td>\n      <td>19807</td>\n      <td>0.005508</td>\n      <td>0.078400</td>\n      <td>1</td>\n      <td>0</td>\n      <td>1</td>\n      <td>...</td>\n      <td>58.0</td>\n      <td>166.238095</td>\n      <td>196.238095</td>\n      <td>4</td>\n      <td>4</td>\n      <td>3</td>\n      <td>2</td>\n      <td>2</td>\n      <td>3</td>\n      <td>10</td>\n    </tr>\n  </tbody>\n</table>\n<p>160 rows × 21 columns</p>\n</div>"
     },
     "execution_count": 10,
     "metadata": {},
     "output_type": "execute_result"
    }
   ],
   "source": [
    "import matplotlib.pyplot as plt\n",
    "import seaborn as sns\n",
    "import pandas as pd\n",
    "\n",
    "source=\"/var/home/buonhobo/IdeaProjects/platinum_experiments_proper/domains/risk_assessment/collected_data/all_data2.csv\"\n",
    "df=data=pd.read_csv(source)\n",
    "df['human foam']=6-df['robot foam']\n",
    "df['human wood']=6-df['robot wood']\n",
    "df['human metal']=6-df['robot metal']\n",
    "df['collision score']=2*df['foam collisions'] + 5*df['wood collisions'] + 8*df['metal collisions']\n",
    "df"
   ]
  },
  {
   "cell_type": "code",
   "execution_count": 11,
   "outputs": [
    {
     "data": {
      "text/plain": "<Figure size 640x480 with 1 Axes>",
      "image/png": "[encoded data removed]"
     },
     "metadata": {},
     "output_type": "display_data"
    }
   ],
   "source": [
    "### Time per strategy ###\n",
    "\n",
    "# Create a box plot for time taken by each strategy, grouped by 'shared'\n",
    "sns.boxplot(x=\"strategy\", y=\"time to plan\", hue=\"shared\", data=df)\n",
    "\n",
    "# Customize the axes labels\n",
    "plt.xlabel(\"Strategy\")\n",
    "plt.ylabel(\"Time (ms)\")\n",
    "\n",
    "plt.xticks(rotation=15)\n",
    "# Add a legend\n",
    "plt.legend(title=\"Shared\")\n",
    "\n",
    "# Show the plot\n",
    "plt.savefig('time_to_plan-strategy')"
   ],
   "metadata": {
    "collapsed": false,
    "ExecuteTime": {
     "start_time": "2023-05-04T18:48:29.241356Z",
     "end_time": "2023-05-04T18:48:29.981657Z"
    }
   }
  },
  {
   "cell_type": "code",
   "execution_count": null,
   "outputs": [],
   "source": [
    "    # Create a FacetGrid to visualize multiple graphs in a grid\n",
    "g = sns.FacetGrid(df, col=\"shared\", row=\"expertise\", margin_titles=True)\n",
    "\n",
    "# Plot makespan vs risk in a scatter plot\n",
    "g.map_dataframe(sns.scatterplot, x=\"best makespan\", y=\"average risk\", hue=\"strategy\", style=\"strategy\", palette=\"deep\", alpha=0.8)\n",
    "\n",
    "# Customize the axes labels\n",
    "g.set_axis_labels(\"Makespan\", \"Risk (log)\")\n",
    "\n",
    "# Set the y-axis to logarithmic scale\n",
    "g.set(yscale=\"log\")\n",
    "\n",
    "# Add a legend\n",
    "g.add_legend()\n",
    "\n",
    "# Show the plot\n",
    "plt.savefig('risk-makespan-shared')"
   ],
   "metadata": {
    "collapsed": false,
    "ExecuteTime": {
     "start_time": "2023-05-04T18:44:46.793156Z",
     "end_time": "2023-05-04T18:44:53.423911Z"
    },
    "pycharm": {
     "is_executing": true
    }
   }
  },
  {
   "cell_type": "code",
   "execution_count": null,
   "outputs": [],
   "source": [
    "### Risk-Makespan Tradeoff ###\n",
    "\n",
    "# Create a FacetGrid to visualize multiple graphs in a grid\n",
    "g = sns.FacetGrid(df, col=\"strategy\", row=\"expertise\", margin_titles=True)\n",
    "\n",
    "# Plot makespan vs risk in a scatter plot\n",
    "g.map_dataframe(sns.scatterplot, x=\"best makespan\", y=\"average risk\", hue=\"shared\", style=\"shared\", palette=\"deep\", alpha=0.8)\n",
    "\n",
    "# Customize the axes labels\n",
    "g.set_axis_labels(\"Makespan\", \"Risk (log)\")\n",
    "\n",
    "# Set the y-axis to logarithmic scale\n",
    "g.set(yscale=\"log\")\n",
    "\n",
    "# Add a legend\n",
    "g.add_legend()\n",
    "\n",
    "# Show the plot\n",
    "plt.savefig('risk-makespan-strategy')"
   ],
   "metadata": {
    "collapsed": false,
    "ExecuteTime": {
     "start_time": "2023-05-04T18:45:41.595725Z",
     "end_time": "2023-05-04T18:45:48.343015Z"
    },
    "pycharm": {
     "is_executing": true
    }
   }
  },
  {
   "cell_type": "code",
   "execution_count": null,
   "outputs": [],
   "source": [
    "import numpy as np\n",
    "\n",
    "# Filter data for shared=6 and group by strategy\n",
    "df_grouped = df[df['shared']==6].groupby(['strategy']).sum()\n",
    "\n",
    "# Create new dataframe with columns for each kind of cube\n",
    "df_plot = pd.DataFrame({\n",
    "    'Robot Foam': df_grouped['robot foam'],\n",
    "    'Human Foam': df_grouped['human foam'],\n",
    "    'Robot Wood': df_grouped['robot wood'],\n",
    "    'Human Wood': df_grouped['human wood'],\n",
    "    'Robot Metal': df_grouped['robot metal'],\n",
    "    'Human Metal': df_grouped['human metal']\n",
    "})\n",
    "\n",
    "# Set width of bars and positions of x-tick labels\n",
    "width = 0.25\n",
    "pos = np.arange(len(df_plot.index))\n",
    "\n",
    "# Create the figure and axis objects\n",
    "fig, ax = plt.subplots(figsize=(10,8))\n",
    "\n",
    "# Plot the stacked bar chart for each kind of cube\n",
    "ax.bar(pos, df_plot['Robot Foam'], width, label='Robot Foam', color='blue')\n",
    "ax.bar(pos, df_plot['Human Foam'], width, bottom=df_plot['Robot Foam'], label='Human Foam', color='grey')\n",
    "ax.bar(pos+width, df_plot['Robot Wood'], width, label='Robot Wood', color='orange')\n",
    "ax.bar(pos+width, df_plot['Human Wood'], width, bottom=df_plot['Robot Wood'], label='Human Wood', color='grey')\n",
    "ax.bar(pos+2*width, df_plot['Robot Metal'], width, label='Robot Metal', color='green')\n",
    "ax.bar(pos+2*width, df_plot['Human Metal'], width, bottom=df_plot['Robot Metal'], label='Human Metal', color='grey')\n",
    "\n",
    "# Set the x-tick labels and add legend\n",
    "ax.set_xticks(pos+width)\n",
    "ax.set_xticklabels(df_plot.index)\n",
    "ax.legend()\n",
    "\n",
    "# Set the axis labels and title\n",
    "ax.set_xlabel('Strategy')\n",
    "ax.set_ylabel('Number of Cubes')\n",
    "ax.set_title('Assignments of Cubes to Robot and Human')\n",
    "\n",
    "# Display the plot\n",
    "plt.show()\n"
   ],
   "metadata": {
    "collapsed": false,
    "ExecuteTime": {
     "start_time": "2023-05-04T18:44:59.576572Z",
     "end_time": "2023-05-04T18:45:00.001705Z"
    },
    "pycharm": {
     "is_executing": true
    }
   }
  },
  {
   "cell_type": "code",
   "execution_count": null,
   "outputs": [],
   "source": [
    "# Create a grouped bar chart showing the number of foam collisions, wood collisions, and metal collisions by actor\n",
    "collisions_data = data.groupby(['strategy']).sum()[['foam collisions', 'wood collisions', 'metal collisions']]\n",
    "ax = collisions_data.plot(kind='bar', rot=0, figsize=(8, 6))\n",
    "ax.set_xlabel('Strategy')\n",
    "ax.set_ylabel('Number of Collisions')\n",
    "ax.legend(['Foam', 'Wood', 'Metal'], loc='upper left')\n",
    "plt.show()"
   ],
   "metadata": {
    "collapsed": false,
    "ExecuteTime": {
     "start_time": "2023-05-04T18:45:00.008194Z",
     "end_time": "2023-05-04T18:45:00.249494Z"
    },
    "pycharm": {
     "is_executing": true
    }
   }
  },
  {
   "cell_type": "code",
   "execution_count": null,
   "outputs": [],
   "source": [
    "    # Create a FacetGrid to visualize multiple graphs in a grid\n",
    "g = sns.FacetGrid(df, col=\"shared\", row=\"expertise\", margin_titles=True)\n",
    "\n",
    "# Plot makespan vs risk in a scatter plot\n",
    "g.map_dataframe(sns.scatterplot, x=\"best makespan\", y=\"collision score\", hue=\"strategy\", style=\"strategy\", palette=\"deep\", alpha=0.8)\n",
    "\n",
    "# Customize the axes labels\n",
    "g.set_axis_labels(\"Makespan\", \"Collision score\")\n",
    "\n",
    "# Add a legend\n",
    "g.add_legend()\n",
    "\n",
    "# Show the plot\n",
    "plt.savefig('collision_score-makespan-shared')"
   ],
   "metadata": {
    "collapsed": false,
    "ExecuteTime": {
     "start_time": "2023-05-04T18:45:00.367351Z",
     "end_time": "2023-05-04T18:45:04.642784Z"
    },
    "pycharm": {
     "is_executing": true
    }
   }
  },
  {
   "cell_type": "code",
   "execution_count": null,
   "outputs": [],
   "source": [
    "    # Create a FacetGrid to visualize multiple graphs in a grid\n",
    "g = sns.FacetGrid(df, col=\"strategy\", row='expertise' ,margin_titles=True)\n",
    "\n",
    "# Plot makespan vs risk in a scatter plot\n",
    "g.map_dataframe(sns.scatterplot, x=\"best makespan\", y=\"collision score\", hue=\"shared\", style=\"shared\", palette=\"deep\", alpha=0.8)\n",
    "\n",
    "# Customize the axes labels\n",
    "g.set_axis_labels(\"Makespan\", \"Collision score\")\n",
    "\n",
    "# Add a legend\n",
    "g.add_legend()\n",
    "\n",
    "# Show the plot\n",
    "plt.savefig('collision_score-makespan-strategy')"
   ],
   "metadata": {
    "collapsed": false,
    "ExecuteTime": {
     "start_time": "2023-05-04T18:45:04.829742Z",
     "end_time": "2023-05-04T18:45:08.105888Z"
    },
    "pycharm": {
     "is_executing": true
    }
   }
  },
  {
   "cell_type": "code",
   "execution_count": null,
   "outputs": [],
   "source": [],
   "metadata": {
    "collapsed": false,
    "ExecuteTime": {
     "start_time": "2023-05-04T18:45:08.108888Z",
     "end_time": "2023-05-04T18:45:08.111341Z"
    },
    "pycharm": {
     "is_executing": true
    }
   }
  }
 ],
 "metadata": {
  "kernelspec": {
   "display_name": "Python 3",
   "language": "python",
   "name": "python3"
  },
  "language_info": {
   "codemirror_mode": {
    "name": "ipython",
    "version": 2
   },
   "file_extension": ".py",
   "mimetype": "text/x-python",
   "name": "python",
   "nbconvert_exporter": "python",
   "pygments_lexer": "ipython2",
   "version": "2.7.6"
  }
 },
 "nbformat": 4,
 "nbformat_minor": 0
}
